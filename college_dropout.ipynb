{
 "cells": [
  {
   "cell_type": "code",
   "execution_count": null,
   "metadata": {},
   "outputs": [],
   "source": [
    "import pandas as pd\n",
    "import altair as alt"
   ]
  },
  {
   "cell_type": "code",
   "execution_count": null,
   "metadata": {},
   "outputs": [],
   "source": [
    "#https://www.mdpi.com/2306-5729/7/11/146\n",
    "data = pd.read_csv(\"college_dropout.csv\")\n",
    "data.head()"
   ]
  },
  {
   "cell_type": "code",
   "execution_count": null,
   "metadata": {},
   "outputs": [],
   "source": [
    "data[\"Debtor\"] = data[\"Debtor\"].replace({1: \"Has Debt\", 0: \"No Debt\"})\n",
    "data[\"Tuition fees up to date\"] = data[\"Tuition fees up to date\"].replace({ 0: \"Not Paid Tuition\", 1: \"Paid Tuition\",})\n",
    "data[\"Mother qualification\"] = data[\"Mother's qualification\"].replace({1: \"High School\", 2: \"Bachelor’s degree\", 3: \"Bachelor’s degree\", 4: \"Master’s degree\", 5: \"Doctorate\", 6: \"Other\", \n",
    "    7: \"Middle School\", 8: \"Middle School\", 9: \"Elementary\", 10: \"Middle School\", 11: \"Middle School\", 12: \"Middle School\", 13: \"Other\", 14: \"High School\", 15: \"High School\", 16: \"Other\", \n",
    "    17: \"Middle School\", 18: \"Elementary\", 19: \"High School\", 20: \"Middle School\", 21: \"Middle School\", 22: \"Other\", 23: \"Other\", 24: \"Unknown\", 25: \"No education\", 26: \"No education\", \n",
    "    27: \"Elementary\", 28: \"Middle School\", 29: \"Other\", 30: \"Higher Education—bachelor’s degree\", 31: \"Other\", 32: \"Other\", 33: \"Master’s degree\", 34: \"Doctorate\"})\n",
    "data[\"Father qualification\"] = data[\"Father's qualification\"].replace({1: \"High School\", 2: \"Bachelor’s degree\", 3: \"Bachelor’s degree\", 4: \"Master’s degree\", 5: \"Doctorate\", 6: \"Other\", \n",
    "    7: \"Middle School\", 8: \"Middle School\", 9: \"Elementary\", 10: \"Middle School\", 11: \"Middle School\", 12: \"Middle School\", 13: \"Other\", 14: \"High School\", 15: \"High School\", 16: \"Other\", \n",
    "    17: \"Middle School\", 18: \"Elementary\", 19: \"High School\", 20: \"Middle School\", 21: \"Middle School\", 22: \"Other\", 23: \"Other\", 24: \"Unknown\", 25: \"No education\", 26: \"No education\", \n",
    "    27: \"Elementary\", 28: \"Middle School\", 29: \"Other\", 30: \"Higher Education—bachelor’s degree\", 31: \"Other\", 32: \"Other\", 33: \"Master’s degree\", 34: \"Doctorate\"})\n",
    "data[\"Mother occupation\"] = data[\"Mother's occupation\"].replace({1: \"Student\", 2: \"Managers\", 3: \"Professionals\", 4: \"Technicians\", 5: \"Clerical\", 6:  \"Services\", \n",
    "    7: \"Farmers and Skilled Workers in Agriculture, Fisheries, and Forestry\", 8: \"Skilled Workers in Industry, Construction, and Craftsmen\", 9: \"Installation and Machine Operators and Assembly Workers\", \n",
    "    10: \"Elementary Occupation\", 11: \"Armed Forces Professions\", 12: \"Other\", 13: \"Unknown\", 14: \"Managers\", 15: \"Armed Forces Professions\", 16:  \"Armed Forces Professions\", 17: \"Managers\", 18: \"Managers\", \n",
    "    19: \"Professionals\", 20: \"Professionals\", 21: \"Professionals\", 22: \"Professionals\", 23: \"Professionals\", 24: \"Professionals\", 25: \"Professionals\", 26: \"Technicians\", 27: \"Clerical\", 28: \"Technicians\", \n",
    "    29: \"Clerical\", 30: \"Services\", 31: \"Skilled Workers in Industry, Construction, and Craftsmen\", 32: \"Services\", 33: \"Services\", 34: \"Farmers and Skilled Workers in Agriculture, Fisheries, and Forestry\", \n",
    "    35: \"Farmers and Skilled Workers in Agriculture, Fisheries, and Forestry\", 36: \"Elementary Occupation\", 37: \"Skilled Workers in Industry, Construction, and Craftsmen\", \n",
    "    38: \"Skilled Workers in Industry, Construction, and Craftsmen\", 39: \"Skilled Workers in Industry, Construction, and Craftsmen\", 40: \"Installation and Machine Operators and Assembly Workers\", \n",
    "    41: \"Installation and Machine Operators and Assembly Workers\", 42: \"Installation and Machine Operators and Assembly Workers\", 43: \"Elementary Occupation\", 44: \"Elementary Occupation\", \n",
    "    45: \"Elementary Occupation\", 46: \"Elementary Occupation\"})\n",
    "data[\"Father occupation\"] = data[\"Father's occupation\"].replace({1: \"Student\", 2: \"Managers\", 3: \"Professionals\", 4: \"Technicians\", 5: \"Clerical\", 6:  \"Services\", \n",
    "    7: \"Farmers and Skilled Workers in Agriculture, Fisheries, and Forestry\", 8: \"Skilled Workers in Industry, Construction, and Craftsmen\", 9: \"Installation and Machine Operators and Assembly Workers\", \n",
    "    10: \"Elementary Occupation\", 11: \"Armed Forces Professions\", 12: \"Other\", 13: \"Unknown\", 14: \"Managers\", 15: \"Armed Forces Professions\", 16:  \"Armed Forces Professions\", 17: \"Managers\", 18: \"Managers\", \n",
    "    19: \"Professionals\", 20: \"Professionals\", 21: \"Professionals\", 22: \"Professionals\", 23: \"Professionals\", 24: \"Professionals\", 25: \"Professionals\", 26: \"Technicians\", 27: \"Clerical\", 28: \"Technicians\", \n",
    "    29: \"Clerical\", 30: \"Services\", 31: \"Skilled Workers in Industry, Construction, and Craftsmen\", 32: \"Services\", 33: \"Services\", 34: \"Farmers and Skilled Workers in Agriculture, Fisheries, and Forestry\", \n",
    "    35: \"Farmers and Skilled Workers in Agriculture, Fisheries, and Forestry\", 36: \"Elementary Occupation\", 37: \"Skilled Workers in Industry, Construction, and Craftsmen\", \n",
    "    38: \"Skilled Workers in Industry, Construction, and Craftsmen\", 39: \"Skilled Workers in Industry, Construction, and Craftsmen\", 40: \"Installation and Machine Operators and Assembly Workers\", \n",
    "    41: \"Installation and Machine Operators and Assembly Workers\", 42: \"Installation and Machine Operators and Assembly Workers\", 43: \"Elementary Occupation\", 44: \"Elementary Occupation\", \n",
    "    45: \"Elementary Occupation\", 46: \"Elementary Occupation\"})\n",
    "data[\"Nationality\"] = data[\"Nacionality\"].replace({1: \"Portuguese\", 2: \"German\", 3: \"Spanish\", 4: \"Italian\", 5: \"Dutch\",\n",
    " 6: \"English\", 7: \"Lithuanian\", 8: \"Angolan\", 9: \"Cape Verdean\", 10: \"Guinean\", 11: \"Mozambican\", 12: \"Santomean\", 13: \"Turkish\", 14: \"Brazilian\", 15: \"Romanian\", 16: \"Moldova (Republic of)\", 17: \"Mexican\", 18: \"Ukrainian\", 19: \"Russian\", 20: \"Cuban\", 21: \"Colombian\"})"
   ]
  },
  {
   "cell_type": "code",
   "execution_count": null,
   "metadata": {},
   "outputs": [],
   "source": [
    "count_view = alt.Chart(data).mark_bar().encode(\n",
    "    y = \"Target\",\n",
    "    x = alt.X(\"count(Debtor)\"),\n",
    "    color = \"Debtor\",\n",
    ").properties(height = 100, width=350)\n",
    "percent_view = alt.Chart(data).mark_bar().encode(\n",
    "    y = \"Target\",\n",
    "    x = alt.X(\"count(Debtor)\", stack=\"normalize\",axis=alt.Axis(title=\"Percent\", format=\"%\")),\n",
    "    color = \"Debtor\",\n",
    "    tooltip = [\"count(Debtor)\"]\n",
    "    \n",
    ").properties(height = 100, width=350)\n",
    "count_view | percent_view"
   ]
  },
  {
   "cell_type": "code",
   "execution_count": null,
   "metadata": {},
   "outputs": [],
   "source": [
    "alt.Chart(data).mark_bar().encode(\n",
    "    y = \"Target\",\n",
    "    x = alt.X(\"count(Tuition fees up to date)\"),\n",
    "    color = \"Tuition fees up to date\",\n",
    ")"
   ]
  },
  {
   "cell_type": "code",
   "execution_count": null,
   "metadata": {},
   "outputs": [],
   "source": [
    "alt.Chart(data).mark_bar().encode(\n",
    "    y = \"Target\",\n",
    "    x = alt.Y(\"count(Nationality)\"),\n",
    "    color = \"Nationality\",\n",
    ")"
   ]
  },
  {
   "cell_type": "code",
   "execution_count": null,
   "metadata": {},
   "outputs": [],
   "source": [
    "alt.Chart(data).mark_bar().encode(\n",
    "    y = \"Target\",\n",
    "    color = \"Target\",\n",
    "    x = alt.X(alt.repeat(\"repeat\"), type='quantitative', aggregate='mean'),\n",
    ").properties(\n",
    "    width=150,\n",
    "    height=125,\n",
    ").repeat(\n",
    "    repeat=[\"Curricular units 1st sem (credited)\", \"Curricular units 1st sem (enrolled)\", \"Curricular units 1st sem (evaluations)\", \"Curricular units 1st sem (approved)\", \"Curricular units 1st sem (grade)\", \"Curricular units 2nd sem (credited)\", \"Curricular units 2nd sem (enrolled)\", \"Curricular units 2nd sem (evaluations)\", \"Curricular units 2nd sem (approved)\", \"Curricular units 2nd sem (grade)\"],\n",
    "    columns = 5\n",
    ")"
   ]
  },
  {
   "cell_type": "code",
   "execution_count": null,
   "metadata": {},
   "outputs": [],
   "source": [
    "\n",
    "selection1 = alt.selection(type=\"single\", encodings=['y','color'])\n",
    "selection2 = alt.selection(type=\"single\", encodings=['y','color'])\n",
    "\n",
    "base = alt.Chart(data)\n",
    "\n",
    "overview = alt.Chart(data).mark_bar().encode(\n",
    "    y = \"Target\",\n",
    "    x = alt.X(\"count(Debtor)\"),\n",
    "    color = alt.condition(selection1, \"Debtor\", alt.value(\"lightgray\"))\n",
    ").add_selection(selection1).properties(\n",
    "    width=250, height=150\n",
    ")\n",
    "\n",
    "detail = base.mark_bar().encode(\n",
    "    y = \"Target\",\n",
    "    x = alt.X(\"count(Tuition fees up to date)\"),\n",
    "    color = alt.condition(selection2, \"Tuition fees up to date\", alt.value(\"lightgray\")),\n",
    ").add_selection(selection2).transform_filter(selection1).properties(\n",
    "    width=250, height=150\n",
    ")\n",
    "\n",
    "curriculum_view = alt.Chart(data).transform_fold(\n",
    "    [\"Curricular units 1st sem (credited)\", \"Curricular units 1st sem (enrolled)\", \"Curricular units 1st sem (evaluations)\", \"Curricular units 1st sem (approved)\", \"Curricular units 1st sem (grade)\", \"Curricular units 1st sem (without evaluations)\", \"Curricular units 2nd sem (credited)\", \"Curricular units 2nd sem (enrolled)\", \"Curricular units 2nd sem (evaluations)\", \"Curricular units 2nd sem (approved)\", \"Curricular units 2nd sem (grade)\", \"Curricular units 2nd sem (without evaluations)\"]\n",
    ").mark_bar().encode(\n",
    "    y=\"key:N\",\n",
    "    x=alt.X(\"value:Q\", type='quantitative', aggregate='mean'),\n",
    ").properties(\n",
    "    width=250,\n",
    "    height=125,\n",
    ").transform_filter(selection1 & selection2).properties(\n",
    "    width=350, height=250\n",
    ")\n",
    "\n",
    "concat_view = alt.concat(overview,detail).resolve_scale(color='independent')\n",
    "alt.vconcat(concat_view,curriculum_view).resolve_scale(color='independent')"
   ]
  },
  {
   "cell_type": "code",
   "execution_count": null,
   "metadata": {},
   "outputs": [],
   "source": [
    "mother_qualification = alt.Chart(data).mark_bar().encode(\n",
    "    y = \"Target\",\n",
    "    x =alt.X(\"count(Mother qualification)\"),\n",
    "    color = \"Mother qualification\"\n",
    ")\n",
    "father_qualification = alt.Chart(data).mark_bar().encode(\n",
    "    y = \"Target\",\n",
    "    x =alt.X(\"count(Father qualification)\"),\n",
    "    color = \"Father qualification\"\n",
    ")\n",
    "alt.hconcat(mother_qualification, father_qualification).resolve_scale(color='independent')"
   ]
  },
  {
   "cell_type": "code",
   "execution_count": null,
   "metadata": {},
   "outputs": [],
   "source": [
    "mother_num_view = alt.Chart(data).mark_bar().encode(\n",
    "    x = \"Target\",\n",
    "    y =alt.Y(\"count(Mother occupation)\"), \n",
    "    color = \"Mother occupation\"\n",
    ").properties(width=250)\n",
    "\n",
    "mother_percent_view = alt.Chart(data).mark_bar().encode(\n",
    "    x = \"Target\",\n",
    "    y =alt.Y(\"count(Mother occupation)\", stack=\"normalize\",axis=alt.Axis(title=\"Percent\", format=\"%\")),\n",
    "    color = \"Mother occupation\"\n",
    ").properties(width=250)\n",
    "\n",
    "father_num_view = alt.Chart(data).mark_bar().encode(\n",
    "    x = \"Target\",\n",
    "    y =alt.Y(\"count(Father occupation)\"), \n",
    "    color = \"Father occupation\"\n",
    ").properties(width=250)\n",
    "\n",
    "father_percent_view = alt.Chart(data).mark_bar().encode(\n",
    "    x = \"Target\",\n",
    "    y =alt.Y(\"count(Father occupation)\", stack=\"normalize\",axis=alt.Axis(title=\"Percent\", format=\"%\")),\n",
    "    color = \"Father occupation\"\n",
    ").properties(width=250)\n",
    "\n",
    "mother_view = mother_num_view | mother_percent_view\n",
    "father_view = father_num_view | father_percent_view\n",
    "\n",
    "alt.vconcat(mother_view, father_view).resolve_scale(color='independent')"
   ]
  },
  {
   "cell_type": "code",
   "execution_count": null,
   "metadata": {},
   "outputs": [],
   "source": [
    "unemployment = alt.Chart(data).mark_bar().encode(\n",
    "    y = \"Target\",\n",
    "    x =alt.X(\"mean(Unemployment rate)\"),\n",
    "    color =  alt.Color(\"Target\"),\n",
    ")\n",
    "\n",
    "inflation = alt.Chart(data).mark_bar().encode(\n",
    "    y = \"Target\",\n",
    "    x =alt.X(\"mean(Inflation rate)\"),\n",
    "    color =  alt.Color(\"Target\"),\n",
    ")\n",
    "\n",
    "GDP = alt.Chart(data).mark_bar().encode(\n",
    "    y = \"Target\",\n",
    "    x =alt.X(\"mean(GDP)\"),\n",
    "    color =  alt.Color(\"Target\"),\n",
    ")\n",
    "\n",
    "unemployment | inflation | GDP"
   ]
  },
  {
   "cell_type": "code",
   "execution_count": null,
   "metadata": {},
   "outputs": [],
   "source": [
    "base = alt.Chart(data).mark_bar().encode(\n",
    "    y = \"Target\",\n",
    "    x =alt.X(\"mean(GDP)\"),\n",
    "    color =  alt.Color(\"Target\"),\n",
    ")\n",
    "\n",
    "error = alt.Chart(data).mark_errorbar(extent='ci').encode(\n",
    "  x=alt.X('GDP'),\n",
    "  y=alt.Y('Target')\n",
    ")\n",
    "\n",
    "base + error "
   ]
  }
 ],
 "metadata": {
  "kernelspec": {
   "display_name": "Python 3",
   "language": "python",
   "name": "python3"
  },
  "language_info": {
   "codemirror_mode": {
    "name": "ipython",
    "version": 3
   },
   "file_extension": ".py",
   "mimetype": "text/x-python",
   "name": "python",
   "nbconvert_exporter": "python",
   "pygments_lexer": "ipython3",
   "version": "3.8.9"
  },
  "orig_nbformat": 4,
  "vscode": {
   "interpreter": {
    "hash": "31f2aee4e71d21fbe5cf8b01ff0e069b9275f58929596ceb00d14d90e3e16cd6"
   }
  }
 },
 "nbformat": 4,
 "nbformat_minor": 2
}
